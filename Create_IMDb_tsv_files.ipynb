{
  "cells": [
    {
      "cell_type": "code",
      "execution_count": null,
      "metadata": {
        "colab": {
          "base_uri": "https://localhost:8080/"
        },
        "id": "3xyO1bVRtQsu",
        "outputId": "42a62267-1faa-4cc0-af46-853b1fd0f488"
      },
      "outputs": [
        {
          "ename": "",
          "evalue": "",
          "output_type": "error",
          "traceback": [
            "\u001b[1;31mRunning cells with 'Python 3.10.2 64-bit' requires ipykernel package.\n",
            "\u001b[1;31mRun the following command to install 'ipykernel' into the Python environment. \n",
            "\u001b[1;31mCommand: '/usr/local/bin/python3 -m pip install ipykernel -U --user --force-reinstall'"
          ]
        }
      ],
      "source": [
        "!git clone https://github.com/hsm207/imdb_data.git"
      ]
    },
    {
      "cell_type": "code",
      "execution_count": null,
      "metadata": {
        "colab": {
          "base_uri": "https://localhost:8080/"
        },
        "id": "VMuGbpPKt5PO",
        "outputId": "1f45f6aa-ab65-403a-b5af-b942bdb2ec13"
      },
      "outputs": [
        {
          "ename": "",
          "evalue": "",
          "output_type": "error",
          "traceback": [
            "\u001b[1;31mRunning cells with 'Python 3.10.2 64-bit' requires ipykernel package.\n",
            "\u001b[1;31mRun the following command to install 'ipykernel' into the Python environment. \n",
            "\u001b[1;31mCommand: '/usr/local/bin/python3 -m pip install ipykernel -U --user --force-reinstall'"
          ]
        }
      ],
      "source": [
        "%cd imdb_data\n",
        "!pip install -r requirements.txt"
      ]
    },
    {
      "cell_type": "code",
      "execution_count": 3,
      "metadata": {
        "colab": {
          "base_uri": "https://localhost:8080/"
        },
        "id": "0qXrHyM8z_Oo",
        "outputId": "28d65167-522b-4937-8ac8-052a114fed8f"
      },
      "outputs": [
        {
          "name": "stdout",
          "output_type": "stream",
          "text": [
            "INFO line 11:4: Renamed 'tf.logging.set_verbosity' to 'tf.compat.v1.logging.set_verbosity'\n",
            "INFO line 11:29: Renamed 'tf.logging.INFO' to 'tf.compat.v1.logging.INFO'\n",
            "INFO line 14:4: Renamed 'tf.gfile.MakeDirs' to 'tf.io.gfile.makedirs'\n",
            "INFO line 23:8: Renamed 'tf.logging.info' to 'tf.compat.v1.logging.info'\n",
            "INFO line 36:4: Renamed 'tf.logging.info' to 'tf.compat.v1.logging.info'\n",
            "TensorFlow 2.0 Upgrade Script\n",
            "-----------------------------\n",
            "Converted 1 files\n",
            "Detected 0 issues that require attention\n",
            "--------------------------------------------------------------------------------\n",
            "\n",
            "\n",
            "Make sure to read the detailed log 'report.txt'\n",
            "\n"
          ]
        }
      ],
      "source": [
        "!tf_upgrade_v2 --infile create_imdb_dataset.py --outfile bar.py"
      ]
    },
    {
      "cell_type": "code",
      "execution_count": 4,
      "metadata": {
        "colab": {
          "base_uri": "https://localhost:8080/"
        },
        "id": "b8fc93k4t_tX",
        "outputId": "39022ecf-a250-471c-97b5-7cc27c112784"
      },
      "outputs": [
        {
          "name": "stdout",
          "output_type": "stream",
          "text": [
            "INFO:tensorflow:Creating train split ...\n",
            "INFO:tensorflow:Creating train split ...\n",
            "INFO:tensorflow:Downloading http://ai.stanford.edu/~amaas/data/sentiment/aclImdb_v1.tar.gz to /tmp/aclImdb_v1.tar.gz\n",
            "INFO:tensorflow:Downloading http://ai.stanford.edu/~amaas/data/sentiment/aclImdb_v1.tar.gz to /tmp/aclImdb_v1.tar.gz\n",
            "100% completed\n",
            "INFO:tensorflow:Successfully downloaded aclImdb_v1.tar.gz, 84125825 bytes.\n",
            "INFO:tensorflow:Successfully downloaded aclImdb_v1.tar.gz, 84125825 bytes.\n",
            "INFO:tensorflow:Creating test split ...\n",
            "INFO:tensorflow:Creating test split ...\n",
            "INFO:tensorflow:Not downloading, file already found: /tmp/aclImdb_v1.tar.gz\n",
            "INFO:tensorflow:Not downloading, file already found: /tmp/aclImdb_v1.tar.gz\n",
            "INFO:tensorflow:Finished creating the IMDB dataset!\n",
            "INFO:tensorflow:Finished creating the IMDB dataset!\n"
          ]
        }
      ],
      "source": [
        "#Set the output directory for creating train.tsv and test.tsv files\n",
        "!python bar.py --output_dir /content/imdb_data/imdb_dataset"
      ]
    }
  ],
  "metadata": {
    "colab": {
      "name": "Create_IMDb_tsv_files.ipynb",
      "provenance": []
    },
    "kernelspec": {
      "display_name": "Python 3.10.2 64-bit",
      "language": "python",
      "name": "python3"
    },
    "language_info": {
      "name": "python",
      "version": "3.10.2"
    },
    "vscode": {
      "interpreter": {
        "hash": "aee8b7b246df8f9039afb4144a1f6fd8d2ca17a180786b69acc140d282b71a49"
      }
    }
  },
  "nbformat": 4,
  "nbformat_minor": 0
}
