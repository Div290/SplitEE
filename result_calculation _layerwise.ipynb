{
 "cells": [
  {
   "cell_type": "code",
   "execution_count": 1,
   "metadata": {},
   "outputs": [],
   "source": [
    "import pandas as pd\n",
    "import numpy as np\n",
    "import pickle"
   ]
  },
  {
   "cell_type": "code",
   "execution_count": 2,
   "metadata": {},
   "outputs": [],
   "source": [
    "def acccuracy_cost(sample,thresh,arm,lembda,o):\n",
    "    if arm<11:\n",
    "        if max(sample[arm])>=thresh:\n",
    "            reward=max(sample[arm])-lembda*((arm+1))\n",
    "            cost=lembda*((arm+1))\n",
    "            pred=np.argmax(sample[arm])\n",
    "        else:\n",
    "            reward=max(sample[11])-o-lembda*((arm+1))\n",
    "            cost=o+lembda*((arm+1))\n",
    "            pred=np.argmax(sample[11])\n",
    "    else:\n",
    "        reward=max(sample[arm])-lembda*((arm+1))\n",
    "        cost=lembda*((arm+1))\n",
    "        pred=np.argmax(sample[11])\n",
    "    return reward,cost,pred"
   ]
  },
  {
   "cell_type": "code",
   "execution_count": 3,
   "metadata": {},
   "outputs": [],
   "source": [
    "dataset_name=['imdb','scitail','yelp','qqp','snli']\n",
    "threshhold = {'imdb':0.7,'scitail':0.85,'yelp':0.7,'qqp':0.75,'snli':0.75}\n",
    "df_results_dict=pd.read_pickle('/home/divya/vivek_sohan_upd/Experiments/pickle_file/df_results_dict.pkl')\n",
    "def reward_cost_accuracy_calculate(best_arm,offloading_cost):\n",
    "    cost={}\n",
    "    accuracy={}\n",
    "    reward_list={}\n",
    "    for i in dataset_name:\n",
    "        x=df_results_dict['df_'+i].iloc[:,:-1].to_numpy()\n",
    "        y=df_results_dict['df_'+i].iloc[:,-1].to_numpy()\n",
    "        prediction=[]\n",
    "        cos=0\n",
    "        reward=0\n",
    "        for trial in range(len(y)):\n",
    "            reward_sample,cost_sample,pred=acccuracy_cost(x[trial],threshhold[i],best_arm,0.1,offloading_cost)\n",
    "            cos+=cost_sample\n",
    "            prediction.append(pred)\n",
    "            reward+=reward_sample\n",
    "        accuracy[i]=np.sum(np.array(prediction)==y)/len(y)\n",
    "        cost[i]=cos\n",
    "        reward_list[i]=reward\n",
    "    return accuracy,cost,reward_list"
   ]
  },
  {
   "cell_type": "code",
   "execution_count": 5,
   "metadata": {},
   "outputs": [
    {
     "name": "stdout",
     "output_type": "stream",
     "text": [
      "acccuracy \n",
      "  {'imdb': 0.83432, 'scitail': 0.7893286997796236, 'yelp': 0.7789933376060095, 'qqp': 0.7105396239068177, 'snli': 0.8020740233759945} \n",
      " cost \n",
      " {'imdb': 30000.000000012347, 'scitail': 28315.200000011326, 'yelp': 161023.20000006616, 'qqp': 436615.20000273973, 'snli': 659240.3999983534} \n",
      " reward \n",
      " {'imdb': -6323.10824753002, 'scitail': -6831.242187090041, 'yelp': -35735.41910030966, 'qqp': -94444.72906048116, 'snli': -143255.81435411633}\n"
     ]
    }
   ],
   "source": [
    "accuracy,cost,reward_list=reward_cost_accuracy_calculate(11,0.5)\n",
    "print(\"acccuracy \\n \",accuracy,'\\n cost \\n',cost,'\\n reward \\n',reward_list)"
   ]
  },
  {
   "cell_type": "code",
   "execution_count": null,
   "metadata": {},
   "outputs": [],
   "source": []
  }
 ],
 "metadata": {
  "kernelspec": {
   "display_name": "Python 3",
   "language": "python",
   "name": "python3"
  },
  "language_info": {
   "codemirror_mode": {
    "name": "ipython",
    "version": 3
   },
   "file_extension": ".py",
   "mimetype": "text/x-python",
   "name": "python",
   "nbconvert_exporter": "python",
   "pygments_lexer": "ipython3",
   "version": "3.8.10"
  },
  "orig_nbformat": 4
 },
 "nbformat": 4,
 "nbformat_minor": 2
}
